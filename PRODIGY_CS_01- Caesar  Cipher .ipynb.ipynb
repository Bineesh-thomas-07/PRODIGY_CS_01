{
  "nbformat": 4,
  "nbformat_minor": 0,
  "metadata": {
    "colab": {
      "provenance": []
    },
    "kernelspec": {
      "name": "python3",
      "display_name": "Python 3"
    },
    "language_info": {
      "name": "python"
    }
  },
  "cells": [
    {
      "cell_type": "code",
      "execution_count": null,
      "metadata": {
        "colab": {
          "base_uri": "https://localhost:8080/"
        },
        "id": "tyojmnw0Gr5S",
        "outputId": "6a0cb8e5-ca7c-4877-8b5b-e3ae6201ce52"
      },
      "outputs": [
        {
          "output_type": "stream",
          "name": "stdout",
          "text": [
            "Welcome to the Caesar Cipher Program!\n",
            "\n",
            "1. Encrypt/Decrypt a message\n",
            "2. Exit\n",
            "Enter choice: 1\n",
            "Enter your message: HELLO \n",
            "Enter the shift value (integer): 7\n",
            "Do you want to 'encrypt' or 'decrypt' the message? decrypt\n",
            "The decrypted message is: AXEEH \n",
            "1. Encrypt/Decrypt a message\n",
            "2. Exit\n",
            "Enter choice: 1\n",
            "Enter your message: hello\n",
            "Enter the shift value (integer): 9\n",
            "Do you want to 'encrypt' or 'decrypt' the message? encrypt\n",
            "The encrypted message is: qnuux\n",
            "1. Encrypt/Decrypt a message\n",
            "2. Exit\n",
            "Enter choice: 1\n",
            "Enter your message: qnuux\n",
            "Enter the shift value (integer): 9\n",
            "Do you want to 'encrypt' or 'decrypt' the message? decrypt\n",
            "The decrypted message is: hello\n",
            "1. Encrypt/Decrypt a message\n",
            "2. Exit\n",
            "Enter choice: exit\n",
            "Invalid choice. Please enter 1 or 2.\n",
            "\n",
            "1. Encrypt/Decrypt a message\n",
            "2. Exit\n"
          ]
        }
      ],
      "source": [
        "def caesar_cipher(text, shift):\n",
        "    result = \"\"\n",
        "    for char in text:\n",
        "        if char.isalpha():\n",
        "            shift_amount = shift % 26\n",
        "            if char.islower():\n",
        "                shifted_char = chr((ord(char) - ord('a') + shift_amount) % 26 + ord('a'))\n",
        "            else:\n",
        "                shifted_char = chr((ord(char) - ord('A') + shift_amount) % 26 + ord('A'))\n",
        "            result += shifted_char\n",
        "        else:\n",
        "            result += char\n",
        "    return result\n",
        "\n",
        "def main():\n",
        "    print(\"Welcome to the Caesar Cipher Program!\\n\")\n",
        "    while True:\n",
        "        print(\"1. Encrypt/Decrypt a message\\n2. Exit\")\n",
        "        choice = input(\"Enter choice: \")\n",
        "\n",
        "        if choice == '1':\n",
        "            message = input(\"Enter your message: \")\n",
        "            shift_value = int(input(\"Enter the shift value (integer): \"))\n",
        "            action = input(\"Do you want to 'encrypt' or 'decrypt' the message? \")\n",
        "\n",
        "            if action.lower() == 'encrypt':\n",
        "                encrypted_message = caesar_cipher(message, shift_value)\n",
        "                print(\"The encrypted message is:\", encrypted_message)\n",
        "            elif action.lower() == 'decrypt':\n",
        "                decrypted_message = caesar_cipher(message, -shift_value)\n",
        "                print(\"The decrypted message is:\", decrypted_message)\n",
        "            else:\n",
        "                print(\"Invalid action. Please choose 'encrypt' or 'decrypt'.\")\n",
        "\n",
        "        elif choice == '2':\n",
        "            print(\"Exiting the program.\")\n",
        "            break\n",
        "\n",
        "        else:\n",
        "            print(\"Invalid choice. Please enter 1 or 2.\\n\")\n",
        "\n",
        "if __name__ == \"__main__\":\n",
        "    main()"
      ]
    }
  ]
}